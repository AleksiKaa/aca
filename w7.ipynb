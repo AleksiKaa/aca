{
 "cells": [
  {
   "cell_type": "code",
   "execution_count": 5,
   "metadata": {},
   "outputs": [],
   "source": [
    "import numpy as np"
   ]
  },
  {
   "cell_type": "code",
   "execution_count": 7,
   "metadata": {},
   "outputs": [],
   "source": [
    "e = 1 / np.sqrt(2)\n",
    "\n",
    "IkH = np.array([[1, 1, 0, 0], [1, -1, 0, 0], [0, 0, 1, 1], [0, 0, 1, -1]])\n",
    "HkI = np.array([[1, 0, 1, 0], [0, 1, 0, 1], [1, 0, -1, 0], [0, 1, 0, -1]])\n",
    "CH = np.array([[1, 0, 0, 0], [0, 1, 0, 0], [0, 0, e, e], [0, 0, e, -e]])\n",
    "\n",
    "M = 0.5 * np.matmul(IkH, HkI)\n",
    "\n",
    "C = np.matmul(CH, M)"
   ]
  },
  {
   "cell_type": "code",
   "execution_count": 15,
   "metadata": {},
   "outputs": [
    {
     "name": "stdout",
     "output_type": "stream",
     "text": [
      "(M * 2).astype(int) = array([[ 1,  1,  1,  1],\n",
      "       [ 1, -1,  1, -1],\n",
      "       [ 1,  1, -1, -1],\n",
      "       [ 1, -1, -1,  1]])\n",
      "C = array([[ 0.5       ,  0.5       ,  0.5       ,  0.5       ],\n",
      "       [ 0.5       , -0.5       ,  0.5       , -0.5       ],\n",
      "       [ 0.70710678,  0.        , -0.70710678,  0.        ],\n",
      "       [ 0.        ,  0.70710678,  0.        , -0.70710678]])\n"
     ]
    }
   ],
   "source": [
    "print(f\"{(M * 2).astype(int) = }\")\n",
    "\n",
    "print(f\"{C = }\")"
   ]
  }
 ],
 "metadata": {
  "kernelspec": {
   "display_name": "Python 3",
   "language": "python",
   "name": "python3"
  },
  "language_info": {
   "codemirror_mode": {
    "name": "ipython",
    "version": 3
   },
   "file_extension": ".py",
   "mimetype": "text/x-python",
   "name": "python",
   "nbconvert_exporter": "python",
   "pygments_lexer": "ipython3",
   "version": "3.11.6"
  }
 },
 "nbformat": 4,
 "nbformat_minor": 2
}
