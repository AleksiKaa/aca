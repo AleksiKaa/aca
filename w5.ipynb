{
 "cells": [
  {
   "cell_type": "code",
   "execution_count": 2,
   "metadata": {},
   "outputs": [],
   "source": [
    "import numpy as np\n",
    "import galois"
   ]
  },
  {
   "cell_type": "code",
   "execution_count": 3,
   "metadata": {},
   "outputs": [
    {
     "name": "stdout",
     "output_type": "stream",
     "text": [
      "x^6 + 5x^5 + 6x^4 + 6x^3 + 12x^2 + 4x + 5\n"
     ]
    }
   ],
   "source": [
    "GF = galois.GF(13)\n",
    "\n",
    "Xi = [1, 2, 3, 4, 5, 6]\n",
    "\n",
    "res = GF(1)\n",
    "for xi in Xi:\n",
    "    res *= galois.Poly([1, -xi], field=GF)\n",
    "\n",
    "print(res)"
   ]
  },
  {
   "cell_type": "code",
   "execution_count": 20,
   "metadata": {},
   "outputs": [
    {
     "data": {
      "text/plain": [
       "GF([7, 1, 0, 9, 5, 7], order=13)"
      ]
     },
     "execution_count": 20,
     "metadata": {},
     "output_type": "execute_result"
    }
   ],
   "source": [
    "v = [[xi ** i % 13 for xi in Xi] for i in range(len(Xi))]\n",
    "\n",
    "V = np.array(v).transpose()\n",
    "\n",
    "V_f = GF(V)\n",
    "\n",
    "V_f_inv = np.linalg.inv(V_f)\n",
    "\n",
    "np.matmul(V_f_inv,GF([3, 8, 6, 0, 7, 1]))"
   ]
  }
 ],
 "metadata": {
  "kernelspec": {
   "display_name": "Python 3",
   "language": "python",
   "name": "python3"
  },
  "language_info": {
   "codemirror_mode": {
    "name": "ipython",
    "version": 3
   },
   "file_extension": ".py",
   "mimetype": "text/x-python",
   "name": "python",
   "nbconvert_exporter": "python",
   "pygments_lexer": "ipython3",
   "version": "3.11.6"
  }
 },
 "nbformat": 4,
 "nbformat_minor": 2
}
