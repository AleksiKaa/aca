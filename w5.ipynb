{
 "cells": [
  {
   "cell_type": "code",
   "execution_count": 2,
   "metadata": {},
   "outputs": [],
   "source": [
    "import numpy as np\n",
    "import galois\n",
    "import pandas as pd"
   ]
  },
  {
   "cell_type": "code",
   "execution_count": 3,
   "metadata": {},
   "outputs": [],
   "source": [
    "GF = galois.GF(13)\n",
    "\n",
    "Xi = [1, 2, 3, 4, 5, 6]\n",
    "\n",
    "g0 = GF(1)\n",
    "for xi in Xi:\n",
    "    g0 *= galois.Poly([1, -xi], field=GF)"
   ]
  },
  {
   "cell_type": "code",
   "execution_count": 4,
   "metadata": {},
   "outputs": [],
   "source": [
    "v = [[xi**i % 13 for xi in Xi] for i in range(len(Xi))]\n",
    "\n",
    "V = np.array(v).transpose()\n",
    "\n",
    "V_f = GF(V)\n",
    "\n",
    "V_f_inv = np.linalg.inv(V_f)\n",
    "\n",
    "g1 = galois.Poly(np.matmul(V_f_inv, GF([3, 8, 6, 0, 7, 1])), order=\"asc\")"
   ]
  },
  {
   "cell_type": "code",
   "execution_count": 5,
   "metadata": {},
   "outputs": [],
   "source": [
    "def eucl_div_poly(f, g, F):\n",
    "    r = [galois.Poly(a, field=F) for a in [f, g]]\n",
    "    s = [galois.Poly(a, field=F) for a in [[1], [0]]]\n",
    "    t = [galois.Poly(a, field=F) for a in [[0], [1]]]\n",
    "    q = [galois.Poly([0], field=F)]\n",
    "    i = 1\n",
    "\n",
    "    while r[i] != galois.Poly([0], field=F):\n",
    "        q.append(r[i - 1] // r[i])\n",
    "        r.append(r[i - 1] - q[i] * r[i])\n",
    "        s.append(s[i - 1] - q[i] * s[i])\n",
    "        t.append(t[i - 1] - q[i] * t[i])\n",
    "        i += 1\n",
    "    q.append(galois.Poly([0], field=F))\n",
    "    res = {\"r\": r, \"s\": s, \"t\": t, \"q\": q}\n",
    "    return res\n",
    "\n",
    "\n",
    "res = eucl_div_poly(g0.coeffs, g1.coeffs, GF)\n",
    "\n",
    "df = pd.DataFrame(res)"
   ]
  },
  {
   "cell_type": "code",
   "execution_count": 6,
   "metadata": {},
   "outputs": [
    {
     "name": "stdout",
     "output_type": "stream",
     "text": [
      "7x + 11\n",
      "0\n"
     ]
    }
   ],
   "source": [
    "g_h1 = df[\"r\"][3]\n",
    "t_h1 = df[\"t\"][3]\n",
    "\n",
    "print(g_h1 // t_h1)\n",
    "print(g_h1 % t_h1)"
   ]
  },
  {
   "cell_type": "code",
   "execution_count": 7,
   "metadata": {},
   "outputs": [
    {
     "data": {
      "text/plain": [
       "[5, 12, 6, 0, 7, 1]"
      ]
     },
     "execution_count": 7,
     "metadata": {},
     "output_type": "execute_result"
    }
   ],
   "source": [
    "def f1(x):\n",
    "    return (7 * x + 11) % 13\n",
    "\n",
    "\n",
    "[f1(xi) for xi in Xi]"
   ]
  }
 ],
 "metadata": {
  "kernelspec": {
   "display_name": "Python 3",
   "language": "python",
   "name": "python3"
  },
  "language_info": {
   "codemirror_mode": {
    "name": "ipython",
    "version": 3
   },
   "file_extension": ".py",
   "mimetype": "text/x-python",
   "name": "python",
   "nbconvert_exporter": "python",
   "pygments_lexer": "ipython3",
   "version": "3.11.6"
  }
 },
 "nbformat": 4,
 "nbformat_minor": 2
}
