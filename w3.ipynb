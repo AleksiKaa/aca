{
 "cells": [
  {
   "cell_type": "code",
   "execution_count": 6,
   "metadata": {},
   "outputs": [],
   "source": [
    "import numpy as np\n",
    "import galois"
   ]
  },
  {
   "cell_type": "code",
   "execution_count": 12,
   "metadata": {},
   "outputs": [
    {
     "name": "stdout",
     "output_type": "stream",
     "text": [
      "[[  5 103  10 108   1]\n",
      " [  3 112  37  29  45]\n",
      " [ 83   9  97  12  25]\n",
      " [103  21 110  96   9]\n",
      " [ 33  94  85  94  33]]\n"
     ]
    },
    {
     "data": {
      "text/plain": [
       "GF([ 99, 112,  63,  41,  87], order=113)"
      ]
     },
     "execution_count": 12,
     "metadata": {},
     "output_type": "execute_result"
    }
   ],
   "source": [
    "GF = galois.GF(113)\n",
    "\n",
    "V = GF(\n",
    "    [\n",
    "        [1, 1, 1, 1, 1],\n",
    "        [1, 2, 4, 8, 16],\n",
    "        [1, 3, 9, 27, 81],\n",
    "        [1, 4, 16, 64, 30],\n",
    "        [1, 5, 25, 12, 60],\n",
    "    ]\n",
    ")\n",
    "\n",
    "x = GF([63, 35, 3, 9, 36])\n",
    "\n",
    "V_ = np.linalg.inv(V)\n",
    "\n",
    "print(V_)\n",
    "\n",
    "\n",
    "np.matmul(V_, x)"
   ]
  }
 ],
 "metadata": {
  "kernelspec": {
   "display_name": "Python 3",
   "language": "python",
   "name": "python3"
  },
  "language_info": {
   "codemirror_mode": {
    "name": "ipython",
    "version": 3
   },
   "file_extension": ".py",
   "mimetype": "text/x-python",
   "name": "python",
   "nbconvert_exporter": "python",
   "pygments_lexer": "ipython3",
   "version": "3.11.6"
  }
 },
 "nbformat": 4,
 "nbformat_minor": 2
}
