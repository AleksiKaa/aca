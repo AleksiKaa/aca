{
 "cells": [
  {
   "cell_type": "code",
   "execution_count": 38,
   "metadata": {},
   "outputs": [],
   "source": [
    "import numpy as np"
   ]
  },
  {
   "cell_type": "code",
   "execution_count": 39,
   "metadata": {},
   "outputs": [],
   "source": [
    "def coords(i, j, k, n):\n",
    "    return (i * n + k, i * n + j, j * n + k)"
   ]
  },
  {
   "cell_type": "code",
   "execution_count": 40,
   "metadata": {},
   "outputs": [
    {
     "name": "stdout",
     "output_type": "stream",
     "text": [
      "(0, 0, 0)\n",
      "(1, 0, 1)\n",
      "(0, 1, 2)\n",
      "(1, 1, 3)\n",
      "(2, 2, 0)\n",
      "(3, 2, 1)\n",
      "(2, 3, 2)\n",
      "(3, 3, 3)\n"
     ]
    }
   ],
   "source": [
    "n = 2\n",
    "for i in range(n):\n",
    "    for j in range(n):\n",
    "        for k in range(n):\n",
    "            print(coords(i, j, k, n))"
   ]
  },
  {
   "cell_type": "code",
   "execution_count": 41,
   "metadata": {},
   "outputs": [],
   "source": [
    "def kruskal(A, B, C, n, r):\n",
    "    T = np.zeros((n, n, n))\n",
    "    for i in range(n):\n",
    "        for j in range(n):\n",
    "            for k in range(n):\n",
    "                for l in range(r):\n",
    "                    T[i][j][k] += A[i][l]  \\\n",
    "                        * B[j][l] * C[k][l]\n",
    "    return T.astype(int)"
   ]
  },
  {
   "cell_type": "code",
   "execution_count": 42,
   "metadata": {},
   "outputs": [],
   "source": [
    "A = np.array(\n",
    "    [\n",
    "        [0, 1, 0, 0, 0, 0, 1],\n",
    "        [-1, -1, 0, 1, 1, 0, 0],\n",
    "        [0, -1, 1, 1, 0, 1, 0],\n",
    "        [1, 1, -1, -1, 0, 0, 0],\n",
    "    ]\n",
    ")\n",
    "\n",
    "B = np.array(\n",
    "    [\n",
    "        [0, 0, 0, 0, 1, 0, 1],\n",
    "        [0, 1, 1, 1, 1, 0, 0],\n",
    "        [1, 0, 0, 1, 1, 1, 0],\n",
    "        [1, 0, 1, 1, 1, 0, 0],\n",
    "    ]\n",
    ")\n",
    "\n",
    "C = np.array(\n",
    "    [\n",
    "        [0, 0, 0, 0, 0, 1, 1],\n",
    "        [0, 0, 1, -1, 1, 1, 0],\n",
    "        [1, 1, 0, 1, 0, -1, 0],\n",
    "        [1, 0, -1, 1, 0, -1, 0],\n",
    "    ]\n",
    ")"
   ]
  },
  {
   "cell_type": "code",
   "execution_count": 43,
   "metadata": {},
   "outputs": [
    {
     "data": {
      "text/plain": [
       "array([[19, 22],\n",
       "       [43, 50]])"
      ]
     },
     "execution_count": 43,
     "metadata": {},
     "output_type": "execute_result"
    }
   ],
   "source": [
    "U = np.array([[1, 2], [3, 4]])\n",
    "V = np.array([[5, 6], [7, 8]])\n",
    "\n",
    "np.matmul(U, V)"
   ]
  },
  {
   "cell_type": "code",
   "execution_count": 44,
   "metadata": {},
   "outputs": [],
   "source": [
    "def tensor_map(T, u, v):\n",
    "    w = np.zeros(len(T))\n",
    "\n",
    "    for i in range(len(T)):\n",
    "        for j in range(len(u)):\n",
    "            for k in range(len(v)):\n",
    "                w[i] += T[i][j][k] * u[j] * v[k]\n",
    "    return w.astype(int)"
   ]
  },
  {
   "cell_type": "code",
   "execution_count": 45,
   "metadata": {},
   "outputs": [
    {
     "data": {
      "text/plain": [
       "array([19, 22, 43, 50])"
      ]
     },
     "execution_count": 45,
     "metadata": {},
     "output_type": "execute_result"
    }
   ],
   "source": [
    "M_2 = kruskal(A, B, C, 4, 7)\n",
    "u = np.array([1, 2, 3, 4])\n",
    "v = np.array([5, 6, 7, 8])\n",
    "\n",
    "tensor_map(M_2, u, v)"
   ]
  },
  {
   "cell_type": "code",
   "execution_count": 52,
   "metadata": {},
   "outputs": [
    {
     "name": "stdout",
     "output_type": "stream",
     "text": [
      "[ 7  2  6  9 10  3  1] [15  7 -2  9  6 -4  5]\n",
      "[105  14 -12  81  60 -12   5]\n"
     ]
    },
    {
     "data": {
      "text/plain": [
       "array([19, 22, 43, 50])"
      ]
     },
     "execution_count": 52,
     "metadata": {},
     "output_type": "execute_result"
    }
   ],
   "source": [
    "Bu = np.matmul(np.transpose(B), u)\n",
    "Cv = np.matmul(np.transpose(C), v)\n",
    "\n",
    "print(Bu, Cv)\n",
    "\n",
    "print(Bu * Cv)\n",
    "\n",
    "np.matmul(A, Bu * Cv)"
   ]
  }
 ],
 "metadata": {
  "kernelspec": {
   "display_name": "Python 3",
   "language": "python",
   "name": "python3"
  },
  "language_info": {
   "codemirror_mode": {
    "name": "ipython",
    "version": 3
   },
   "file_extension": ".py",
   "mimetype": "text/x-python",
   "name": "python",
   "nbconvert_exporter": "python",
   "pygments_lexer": "ipython3",
   "version": "3.11.6"
  }
 },
 "nbformat": 4,
 "nbformat_minor": 2
}
