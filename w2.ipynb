{
 "cells": [
  {
   "cell_type": "code",
   "execution_count": 1,
   "metadata": {},
   "outputs": [],
   "source": [
    "import numpy as np\n",
    "import galois"
   ]
  },
  {
   "cell_type": "code",
   "execution_count": 2,
   "metadata": {},
   "outputs": [],
   "source": [
    "def f(x):\n",
    "    return 1 + x + x**2\n",
    "\n",
    "\n",
    "def g(x):\n",
    "    return 2 + 12 * x**3\n",
    "\n",
    "\n",
    "def dft_fg1(x):\n",
    "    return 3 + 11 * x + 3 * x**3 + 8 * x**5\n",
    "\n",
    "\n",
    "def dft(poly, w, ring, order):\n",
    "    # return list of coefficients of increasing order for dft of poly\n",
    "    return [poly(w**i) % ring for i in range(order)]"
   ]
  },
  {
   "cell_type": "code",
   "execution_count": 3,
   "metadata": {},
   "outputs": [
    {
     "name": "stdout",
     "output_type": "stream",
     "text": [
      "[3 8 0 1 0 7]\n",
      "[1 3 1 3 1 3]\n",
      "[ 3 11  0  3  0  8]\n"
     ]
    }
   ],
   "source": [
    "args = {\n",
    "    \"poly\": f,\n",
    "    \"w\": 4,\n",
    "    \"order\": 6,\n",
    "    \"ring\": 13,\n",
    "}\n",
    "\n",
    "dft_f = np.array(dft(**args))\n",
    "\n",
    "args[\"poly\"] = g\n",
    "\n",
    "dft_g = np.array(dft(**args))\n",
    "\n",
    "print(dft_f)\n",
    "print(dft_g)\n",
    "\n",
    "dft_fg = (dft_f * dft_g) % args[\"ring\"]\n",
    "\n",
    "print(dft_fg)"
   ]
  },
  {
   "cell_type": "code",
   "execution_count": 4,
   "metadata": {},
   "outputs": [
    {
     "data": {
      "text/plain": [
       "array([ 2,  2,  2, 12, 12, 12], dtype=int32)"
      ]
     },
     "execution_count": 4,
     "metadata": {},
     "output_type": "execute_result"
    }
   ],
   "source": [
    "args[\"poly\"] = dft_fg1\n",
    "args[\"w\"] = 10\n",
    "\n",
    "dft_inv = np.array(dft(**args))\n",
    "\n",
    "# order of coeffs wrong because of modulating twice: once in function and then here\n",
    "# remove modulo in function to obtain correct results\n",
    "11 * dft_inv % 13"
   ]
  },
  {
   "cell_type": "code",
   "execution_count": 5,
   "metadata": {},
   "outputs": [
    {
     "data": {
      "text/plain": [
       "Poly(12x^5 + 12x^4 + 12x^3 + 2x^2 + 2x + 2, GF(13))"
      ]
     },
     "execution_count": 5,
     "metadata": {},
     "output_type": "execute_result"
    }
   ],
   "source": [
    "F = galois.GF(13)\n",
    "\n",
    "f_p = galois.Poly([1, 1, 1], F)\n",
    "g_p = galois.Poly([12, 0, 0, 2], F)\n",
    "\n",
    "f_p * g_p"
   ]
  }
 ],
 "metadata": {
  "kernelspec": {
   "display_name": "Python 3",
   "language": "python",
   "name": "python3"
  },
  "language_info": {
   "codemirror_mode": {
    "name": "ipython",
    "version": 3
   },
   "file_extension": ".py",
   "mimetype": "text/x-python",
   "name": "python",
   "nbconvert_exporter": "python",
   "pygments_lexer": "ipython3",
   "version": "3.11.6"
  }
 },
 "nbformat": 4,
 "nbformat_minor": 2
}
