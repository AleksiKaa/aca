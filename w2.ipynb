{
 "cells": [
  {
   "cell_type": "code",
   "execution_count": 59,
   "metadata": {},
   "outputs": [],
   "source": [
    "import numpy as np\n",
    "import galois"
   ]
  },
  {
   "cell_type": "code",
   "execution_count": 60,
   "metadata": {},
   "outputs": [],
   "source": [
    "def f(x):\n",
    "    return 1 + x + x**2\n",
    "\n",
    "\n",
    "def g(x):\n",
    "    return 2 + 12 * x**3\n",
    "\n",
    "\n",
    "def dft(poly, w, ring, order):\n",
    "    # return list of coefficients of increasing order for dft of poly\n",
    "    return [poly(w**i) % ring for i in range(order)]"
   ]
  },
  {
   "cell_type": "code",
   "execution_count": 65,
   "metadata": {},
   "outputs": [
    {
     "name": "stdout",
     "output_type": "stream",
     "text": [
      "[3 8 0 1 0 7]\n",
      "[1 3 1 3 1 3]\n",
      "[ 3 11  0  3  0  8]\n"
     ]
    }
   ],
   "source": [
    "args = {\n",
    "    \"poly\": f,\n",
    "    \"w\": 4,\n",
    "    \"order\": 6,\n",
    "    \"ring\": 13,\n",
    "}\n",
    "\n",
    "dft_f = np.array(dft(**args))\n",
    "\n",
    "args[\"poly\"] = g\n",
    "\n",
    "dft_g = np.array(dft(**args))\n",
    "\n",
    "print(dft_f)\n",
    "print(dft_g)\n",
    "\n",
    "dft_fg = (dft_f * dft_g) % args[\"ring\"]\n",
    "\n",
    "print(dft_fg)"
   ]
  },
  {
   "cell_type": "code",
   "execution_count": 63,
   "metadata": {},
   "outputs": [
    {
     "name": "stdout",
     "output_type": "stream",
     "text": [
      "7x^5 + x^3 + 8x + 3\n",
      "3x^5 + x^4 + 3x^3 + x^2 + 3x + 1\n"
     ]
    },
    {
     "data": {
      "text/plain": [
       "Poly(8x^10 + 7x^9 + 11x^8 + 8x^7 + 9x^6 + 12x^5 + 4x^4 + 5x^3 + x^2 + 4x + 3, GF(13))"
      ]
     },
     "execution_count": 63,
     "metadata": {},
     "output_type": "execute_result"
    }
   ],
   "source": []
  }
 ],
 "metadata": {
  "kernelspec": {
   "display_name": "Python 3",
   "language": "python",
   "name": "python3"
  },
  "language_info": {
   "codemirror_mode": {
    "name": "ipython",
    "version": 3
   },
   "file_extension": ".py",
   "mimetype": "text/x-python",
   "name": "python",
   "nbconvert_exporter": "python",
   "pygments_lexer": "ipython3",
   "version": "3.11.6"
  }
 },
 "nbformat": 4,
 "nbformat_minor": 2
}
