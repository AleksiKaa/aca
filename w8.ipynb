{
 "cells": [
  {
   "cell_type": "code",
   "execution_count": 25,
   "metadata": {},
   "outputs": [],
   "source": [
    "import numpy as np"
   ]
  },
  {
   "cell_type": "code",
   "execution_count": 26,
   "metadata": {},
   "outputs": [
    {
     "name": "stdout",
     "output_type": "stream",
     "text": [
      "np.dot(A, ket00) = array([1, 0, 0, 0])\n",
      "np.dot(A, ket01) = array([0, 0, 1, 0])\n",
      "np.dot(A, ket10) = array([0, 1, 0, 0])\n",
      "np.dot(A, ket11) = array([0, 0, 0, 1])\n"
     ]
    }
   ],
   "source": [
    "CX = np.array([[1, 0, 0, 0], [0, 1, 0, 0], [0, 0, 0, 1], [0, 0, 1, 0]])\n",
    "CXf = np.array([[1, 0, 0, 0], [0, 0, 0, 1], [0, 0, 1, 0], [0, 1, 0, 0]])\n",
    "\n",
    "A = np.matmul(CX, np.matmul(CXf, CX))\n",
    "\n",
    "ket00 = np.array([1, 0, 0, 0])\n",
    "ket01 = np.array([0, 1, 0, 0])\n",
    "ket10 = np.array([0, 0, 1, 0])\n",
    "ket11 = np.array([0, 0, 0, 1])\n",
    "\n",
    "print(f\"{np.dot(A, ket00) = }\")\n",
    "print(f\"{np.dot(A, ket01) = }\")\n",
    "print(f\"{np.dot(A, ket10) = }\")\n",
    "print(f\"{np.dot(A, ket11) = }\")"
   ]
  },
  {
   "cell_type": "code",
   "execution_count": 27,
   "metadata": {},
   "outputs": [],
   "source": [
    "d = 4\n",
    "j = 2\n",
    "\n",
    "I_j = np.identity(2**j, dtype=int)\n",
    "H = np.array([[1, 1], [1, -1]], dtype=int)\n",
    "I_d = np.identity(2 ** (d - 1 - j), dtype=int)\n",
    "\n",
    "\n",
    "B_j = np.kron(I_j, np.kron(H, I_d))"
   ]
  },
  {
   "cell_type": "code",
   "execution_count": 29,
   "metadata": {},
   "outputs": [
    {
     "data": {
      "text/plain": [
       "array([[1., 0., 0., 0., 0., 0., 0., 0., 0., 0., 0., 0., 0., 0., 0., 0.],\n",
       "       [0., 1., 0., 0., 0., 0., 0., 0., 0., 0., 0., 0., 0., 0., 0., 0.],\n",
       "       [0., 0., 0., 0., 1., 0., 0., 0., 0., 0., 0., 0., 0., 0., 0., 0.],\n",
       "       [0., 0., 0., 0., 0., 1., 0., 0., 0., 0., 0., 0., 0., 0., 0., 0.],\n",
       "       [0., 0., 0., 0., 0., 0., 0., 0., 1., 0., 0., 0., 0., 0., 0., 0.],\n",
       "       [0., 0., 0., 0., 0., 0., 0., 0., 0., 1., 0., 0., 0., 0., 0., 0.],\n",
       "       [0., 0., 0., 0., 0., 0., 0., 0., 0., 0., 0., 0., 1., 0., 0., 0.],\n",
       "       [0., 0., 0., 0., 0., 0., 0., 0., 0., 0., 0., 0., 0., 1., 0., 0.]])"
      ]
     },
     "execution_count": 29,
     "metadata": {},
     "output_type": "execute_result"
    }
   ],
   "source": [
    "V_shape = (2, 2 ** (d - j - 1))\n",
    "V = np.zeros(V_shape)\n",
    "\n",
    "for i in range(V_shape[0]):\n",
    "    for j in range(V_shape[1]):\n",
    "        if i == j:\n",
    "            V[i][j] = 1\n",
    "\n",
    "np.kron(I_j, V)"
   ]
  }
 ],
 "metadata": {
  "kernelspec": {
   "display_name": "Python 3",
   "language": "python",
   "name": "python3"
  },
  "language_info": {
   "codemirror_mode": {
    "name": "ipython",
    "version": 3
   },
   "file_extension": ".py",
   "mimetype": "text/x-python",
   "name": "python",
   "nbconvert_exporter": "python",
   "pygments_lexer": "ipython3",
   "version": "3.11.6"
  }
 },
 "nbformat": 4,
 "nbformat_minor": 2
}
