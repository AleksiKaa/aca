{
 "cells": [
  {
   "cell_type": "code",
   "execution_count": 1,
   "metadata": {},
   "outputs": [],
   "source": [
    "import numpy as np"
   ]
  },
  {
   "cell_type": "code",
   "execution_count": 8,
   "metadata": {},
   "outputs": [
    {
     "name": "stdout",
     "output_type": "stream",
     "text": [
      "np.dot(A, ket00) = array([1, 0, 0, 0])\n",
      "np.dot(A, ket01) = array([0, 0, 1, 0])\n",
      "np.dot(A, ket10) = array([0, 1, 0, 0])\n",
      "np.dot(A, ket11) = array([0, 0, 0, 1])\n"
     ]
    }
   ],
   "source": [
    "CX = np.array([[1, 0, 0, 0], [0, 1, 0, 0], [0, 0, 0, 1], [0, 0, 1, 0]])\n",
    "CXf = np.array([[1, 0, 0, 0], [0, 0, 0, 1], [0, 0, 1, 0], [0, 1, 0, 0]])\n",
    "\n",
    "A = np.matmul(CX, np.matmul(CXf, CX))\n",
    "\n",
    "ket00 = np.array([1, 0, 0, 0])\n",
    "ket01 = np.array([0, 1, 0, 0])\n",
    "ket10 = np.array([0, 0, 1, 0])\n",
    "ket11 = np.array([0, 0, 0, 1])\n",
    "\n",
    "print(f\"{np.dot(A, ket00) = }\")\n",
    "print(f\"{np.dot(A, ket01) = }\")\n",
    "print(f\"{np.dot(A, ket10) = }\")\n",
    "print(f\"{np.dot(A, ket11) = }\")"
   ]
  },
  {
   "cell_type": "code",
   "execution_count": 41,
   "metadata": {},
   "outputs": [
    {
     "data": {
      "text/plain": [
       "array([1, 1, 1, 1, 1, 1, 1, 1, 1, 1, 1, 1, 1, 1, 1, 1, 1, 1, 1, 1, 1, 1,\n",
       "       1, 1, 1, 1, 1, 1, 1, 1, 1, 1, 1, 1, 1, 1, 1, 1, 1, 1, 1, 1, 1, 1,\n",
       "       1, 1, 1, 1, 1, 1, 1, 1, 1, 1, 1, 1, 1, 1, 1, 1, 1, 1, 1, 1])"
      ]
     },
     "execution_count": 41,
     "metadata": {},
     "output_type": "execute_result"
    }
   ],
   "source": [
    "d = 8\n",
    "n = 2**d\n",
    "\n",
    "bit_rev = np.array([1] * d * d)\n",
    "\n",
    "for i in range(n):\n",
    "    j = \n",
    "    ibin = format(i, f\"#0{d + 2}b\")[2:]\n",
    "    jbin = ibin[::-1]\n",
    "    for l in range(d):\n",
    "        if ibin[l] != jbin[d - 1 - l]:\n",
    "            bit_rev[i][j] = 0\n",
    "\n",
    "bit_rev"
   ]
  }
 ],
 "metadata": {
  "kernelspec": {
   "display_name": "Python 3",
   "language": "python",
   "name": "python3"
  },
  "language_info": {
   "codemirror_mode": {
    "name": "ipython",
    "version": 3
   },
   "file_extension": ".py",
   "mimetype": "text/x-python",
   "name": "python",
   "nbconvert_exporter": "python",
   "pygments_lexer": "ipython3",
   "version": "3.11.6"
  }
 },
 "nbformat": 4,
 "nbformat_minor": 2
}
