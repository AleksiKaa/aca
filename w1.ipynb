{
 "cells": [
  {
   "cell_type": "code",
   "execution_count": 24,
   "metadata": {},
   "outputs": [],
   "source": [
    "import numpy as np\n",
    "import pandas as pd\n",
    "import galois"
   ]
  },
  {
   "cell_type": "code",
   "execution_count": 25,
   "metadata": {},
   "outputs": [
    {
     "name": "stdout",
     "output_type": "stream",
     "text": [
      "a = Poly(x^2 + x, GF(2))\n",
      "b = Poly(x^3 + x + 1, GF(2))\n",
      "a * b = Poly(x^5 + x^4 + x^3 + x, GF(2))\n"
     ]
    }
   ],
   "source": [
    "# 1 a)\n",
    "\n",
    "# define the field with 2 elements\n",
    "GF = galois.GF(int(2))\n",
    "\n",
    "# define two polynomials:\n",
    "a = galois.Poly([1, 1, 0], field=GF)\n",
    "b = galois.Poly([1, 0, 1, 1], field=GF)\n",
    "\n",
    "print(f\"{a = }\\n{b = }\")\n",
    "\n",
    "print(f\"{a * b = }\")"
   ]
  },
  {
   "cell_type": "code",
   "execution_count": 26,
   "metadata": {},
   "outputs": [
    {
     "name": "stdout",
     "output_type": "stream",
     "text": [
      "p = Poly(x^6 + x^4 + x^3 + x^2 + 1, GF(2))\n",
      "q = Poly(x^4 + x^3 + 1, GF(2))\n",
      "p // q = Poly(x^2 + x, GF(2))\n",
      "p % q = Poly(x^3 + x + 1, GF(2))\n"
     ]
    }
   ],
   "source": [
    "#1 b)\n",
    "\n",
    "# define the field with 2 elements\n",
    "GF = galois.GF(int(2))\n",
    "\n",
    "# define two polynomials:\n",
    "p = galois.Poly([1, 0, 1, 1, 1, 0, 1], field=GF)\n",
    "q = galois.Poly([1, 1, 0, 0, 1], field=GF)\n",
    "\n",
    "print(f\"{p = }\\n{q = }\")\n",
    "\n",
    "print(f\"{p // q = }\\n{p % q = }\")"
   ]
  },
  {
   "cell_type": "code",
   "execution_count": 27,
   "metadata": {},
   "outputs": [],
   "source": [
    "# 2 a)\n",
    "\n",
    "\n",
    "def eucl_div(f, g, poly=False):\n",
    "    r = [f, g]\n",
    "    s = [1, 0]\n",
    "    t = [0, 1]\n",
    "    q = [0]\n",
    "    i = 1\n",
    "\n",
    "    while r[i] != 0 :\n",
    "        q.append(r[i - 1] // r[i])\n",
    "        r.append(r[i - 1] - q[i] * r[i])\n",
    "        s.append(s[i - 1] - q[i] * s[i])\n",
    "        t.append(t[i - 1] - q[i] * t[i])\n",
    "        i += 1\n",
    "    q.append(0)\n",
    "    res = {\"r\": r, \"s\": s, \"t\": t, \"q\": q}\n",
    "    return res\n",
    "\n",
    "\n",
    "res = eucl_div(1234567, 123)\n",
    "#print(pd.DataFrame(data=res).to_latex())"
   ]
  },
  {
   "cell_type": "code",
   "execution_count": 28,
   "metadata": {},
   "outputs": [],
   "source": [
    "s = [galois.Poly(a, field=GF) for a in [[1], [0]]]"
   ]
  },
  {
   "cell_type": "code",
   "execution_count": 32,
   "metadata": {},
   "outputs": [
    {
     "name": "stdout",
     "output_type": "stream",
     "text": [
      "x^2 + 1\n",
      "\\begin{tabular}{lllll}\n",
      " & r & s & t & q \\\\\n",
      "0 & x^4 + x^3 + x + 1 & 1 & 0 & 0 \\\\\n",
      "1 & x^4 + 1 & 0 & 1 & 1 \\\\\n",
      "2 & x^3 + x & 1 & 1 & x \\\\\n",
      "3 & x^2 + 1 & x & x + 1 & x \\\\\n",
      "4 & 0 & x^2 + 1 & x^2 + x + 1 & 0 \\\\\n",
      "\\end{tabular}\n",
      "\n"
     ]
    }
   ],
   "source": [
    "# 2 b)\n",
    "\n",
    "def eucl_div_poly(f, g, F):\n",
    "    r = [galois.Poly(a, field=F) for a in [f, g]]\n",
    "    s = [galois.Poly(a, field=GF) for a in [[1], [0]]]\n",
    "    t = [galois.Poly(a, field=F) for a in [[0], [1]]]\n",
    "    q = [galois.Poly([0], field=F)]\n",
    "    i = 1\n",
    "\n",
    "    while r[i] != galois.Poly([0], field=GF) :\n",
    "        q.append(r[i - 1] // r[i])\n",
    "        r.append(r[i - 1] - q[i] * r[i])\n",
    "        s.append(s[i - 1] - q[i] * s[i])\n",
    "        t.append(t[i - 1] - q[i] * t[i])\n",
    "        i += 1\n",
    "    q.append(galois.Poly([0], field=F))\n",
    "    res = {\"r\": r, \"s\": s, \"t\": t, \"q\": q}\n",
    "    return res\n",
    "\n",
    "GF = galois.GF(int(2))\n",
    "f = [1, 1, 0, 1, 1]\n",
    "g = [1, 0, 0, 0, 1]\n",
    "\n",
    "print(galois.gcd(galois.Poly(f, field=GF), galois.Poly(g, field=GF)))\n",
    "\n",
    "res = eucl_div_poly(f, g, GF)\n",
    "print(pd.DataFrame(data=res).style.format(escape=\"latex\").to_latex())"
   ]
  }
 ],
 "metadata": {
  "kernelspec": {
   "display_name": "Python 3",
   "language": "python",
   "name": "python3"
  },
  "language_info": {
   "codemirror_mode": {
    "name": "ipython",
    "version": 3
   },
   "file_extension": ".py",
   "mimetype": "text/x-python",
   "name": "python",
   "nbconvert_exporter": "python",
   "pygments_lexer": "ipython3",
   "version": "3.11.6"
  }
 },
 "nbformat": 4,
 "nbformat_minor": 2
}
